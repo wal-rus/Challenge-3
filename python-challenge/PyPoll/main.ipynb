{
 "cells": [
  {
   "cell_type": "code",
   "execution_count": 54,
   "id": "546664ee",
   "metadata": {},
   "outputs": [],
   "source": [
    "import pandas as pd\n",
    "from pathlib import Path"
   ]
  },
  {
   "cell_type": "code",
   "execution_count": 6,
   "id": "c0630e44",
   "metadata": {},
   "outputs": [
    {
     "name": "stdout",
     "output_type": "stream",
     "text": [
      "        Ballot ID     County                Candidate\n",
      "0         1323913  Jefferson  Charles Casper Stockham\n",
      "1         1005842  Jefferson  Charles Casper Stockham\n",
      "2         1880345  Jefferson  Charles Casper Stockham\n",
      "3         1600337  Jefferson  Charles Casper Stockham\n",
      "4         1835994  Jefferson  Charles Casper Stockham\n",
      "...           ...        ...                      ...\n",
      "369706    4714953   Arapahoe     Raymon Anthony Doane\n",
      "369707    4497542   Arapahoe     Raymon Anthony Doane\n",
      "369708    4085849   Arapahoe     Raymon Anthony Doane\n",
      "369709    4592018   Arapahoe     Raymon Anthony Doane\n",
      "369710    4660518   Arapahoe     Raymon Anthony Doane\n",
      "\n",
      "[369711 rows x 3 columns]\n"
     ]
    }
   ],
   "source": [
    "#import data\n",
    "\n",
    "csvPoll = pd.read_csv(r'C:\\Users\\willf\\Documents\\DSBC\\python-challenge\\PyPoll\\Resources\\election_data.csv')\n",
    "print(csvPoll)\n",
    "df = csvPoll"
   ]
  },
  {
   "cell_type": "code",
   "execution_count": 19,
   "id": "ecac95f8",
   "metadata": {},
   "outputs": [
    {
     "name": "stdout",
     "output_type": "stream",
     "text": [
      "369711\n"
     ]
    }
   ],
   "source": [
    "#find total votes cast\n",
    "\n",
    "totalVotes = len(df['Ballot ID'])\n",
    "print(totalVotes)"
   ]
  },
  {
   "cell_type": "code",
   "execution_count": 37,
   "id": "6fa84ba9",
   "metadata": {},
   "outputs": [
    {
     "name": "stdout",
     "output_type": "stream",
     "text": [
      "['Charles Casper Stockham' 'Diana DeGette' 'Raymon Anthony Doane']\n",
      "Diana DeGette\n"
     ]
    }
   ],
   "source": [
    "# get list of candidates\n",
    "candidates = df['Candidate'].unique()\n",
    "print(candidates)\n",
    "print(candidates[1])"
   ]
  },
  {
   "cell_type": "code",
   "execution_count": 42,
   "id": "41f812a5",
   "metadata": {
    "scrolled": true
   },
   "outputs": [
    {
     "name": "stdout",
     "output_type": "stream",
     "text": [
      "Diana DeGette              272892\n",
      "Charles Casper Stockham     85213\n",
      "Raymon Anthony Doane        11606\n",
      "Name: Candidate, dtype: int64\n"
     ]
    }
   ],
   "source": [
    "#get votes for each candidate\n",
    "candidateVotes = df['Candidate'].value_counts().\n",
    "print(candidateVotes)"
   ]
  },
  {
   "cell_type": "code",
   "execution_count": 58,
   "id": "7830ef97",
   "metadata": {},
   "outputs": [
    {
     "name": "stdout",
     "output_type": "stream",
     "text": [
      "Diana DeGette              73.812\n",
      "Charles Casper Stockham    23.049\n",
      "Raymon Anthony Doane        3.139\n",
      "Name: Candidate, dtype: float64\n"
     ]
    }
   ],
   "source": [
    "#percent of votes added toxisting df\n",
    "percentVote = round((candidateVotes/candidateVotes.sum()) * 100,3)\n",
    "print(percentVote)"
   ]
  },
  {
   "cell_type": "code",
   "execution_count": 63,
   "id": "9f153300",
   "metadata": {},
   "outputs": [
    {
     "ename": "SyntaxError",
     "evalue": "invalid syntax (<ipython-input-63-c7878be5c7bd>, line 2)",
     "output_type": "error",
     "traceback": [
      "\u001b[1;36m  File \u001b[1;32m\"<ipython-input-63-c7878be5c7bd>\"\u001b[1;36m, line \u001b[1;32m2\u001b[0m\n\u001b[1;33m    dfResults = {'Candidate': ['Charles Casper Stockham', 'Diana DeGette' , 'Raymon Anthony Doane'], 'Vote Percentage': ['23.049', '73.812', '3.139' ], 'Number of Votes': [85213, 272892, 11606];}\u001b[0m\n\u001b[1;37m                                                                                                                                                                                                 ^\u001b[0m\n\u001b[1;31mSyntaxError\u001b[0m\u001b[1;31m:\u001b[0m invalid syntax\n"
     ]
    }
   ],
   "source": [
    "#bring new data together manually, must be a better way to do this\n",
    "dfResults = {'Candidate': ['Charles Casper Stockham', 'Diana DeGette' , 'Raymon Anthony Doane'], 'Vote Percentage': ['23.049', '73.812', '3.139' ], 'Number of Votes': [85213, 272892, 11606];}\n",
    "print(dfResults)"
   ]
  },
  {
   "cell_type": "code",
   "execution_count": 48,
   "id": "0605dc22",
   "metadata": {},
   "outputs": [
    {
     "name": "stdout",
     "output_type": "stream",
     "text": [
      "73.812\n"
     ]
    }
   ],
   "source": [
    "#winner winner\n",
    "winner = percentVote.max()"
   ]
  },
  {
   "cell_type": "code",
   "execution_count": 52,
   "id": "bad9205d",
   "metadata": {},
   "outputs": [
    {
     "name": "stdout",
     "output_type": "stream",
     "text": [
      "----------------------------\n",
      "Total Votes: 369711\n",
      "----------------------------\n"
     ]
    }
   ],
   "source": [
    "print(\"----------------------------\")\n",
    "print('Total Votes: ' + str(totalVotes))\n",
    "print(\"----------------------------\")"
   ]
  },
  {
   "cell_type": "code",
   "execution_count": null,
   "id": "412b51bf",
   "metadata": {},
   "outputs": [],
   "source": []
  }
 ],
 "metadata": {
  "kernelspec": {
   "display_name": "Python 3",
   "language": "python",
   "name": "python3"
  },
  "language_info": {
   "codemirror_mode": {
    "name": "ipython",
    "version": 3
   },
   "file_extension": ".py",
   "mimetype": "text/x-python",
   "name": "python",
   "nbconvert_exporter": "python",
   "pygments_lexer": "ipython3",
   "version": "3.8.8"
  }
 },
 "nbformat": 4,
 "nbformat_minor": 5
}
