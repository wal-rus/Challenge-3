{
 "cells": [
  {
   "cell_type": "code",
   "execution_count": 192,
   "id": "b6b257f6",
   "metadata": {
    "scrolled": true
   },
   "outputs": [],
   "source": [
    "import pandas as pd\n",
    "from pathlib import Path"
   ]
  },
  {
   "cell_type": "code",
   "execution_count": 66,
   "id": "bd6bc638",
   "metadata": {
    "scrolled": true
   },
   "outputs": [
    {
     "name": "stdout",
     "output_type": "stream",
     "text": [
      "      Date  Profit/Losses\n",
      "0   Jan-10        1088983\n",
      "1   Feb-10        -354534\n",
      "2   Mar-10         276622\n",
      "3   Apr-10        -728133\n",
      "4   May-10         852993\n",
      "..     ...            ...\n",
      "81  Oct-16        -729004\n",
      "82  Nov-16        -112209\n",
      "83  Dec-16         516313\n",
      "84  Jan-17         607208\n",
      "85  Feb-17         382539\n",
      "\n",
      "[86 rows x 2 columns]\n"
     ]
    }
   ],
   "source": [
    "#import data\n",
    "csvBank = pd.read_csv(r'C:\\Users\\willf\\Documents\\DSBC\\python-challenge\\PyBank\\Resources\\budget_data.csv')\n",
    "print(csvBank)\n",
    "df = csvBank"
   ]
  },
  {
   "cell_type": "code",
   "execution_count": 80,
   "id": "13013779",
   "metadata": {},
   "outputs": [
    {
     "name": "stdout",
     "output_type": "stream",
     "text": [
      "86\n"
     ]
    }
   ],
   "source": [
    "#number of months\n",
    "monthCount = len(df)\n",
    "print(monthCount)\n"
   ]
  },
  {
   "cell_type": "code",
   "execution_count": 173,
   "id": "2c594895",
   "metadata": {},
   "outputs": [
    {
     "name": "stdout",
     "output_type": "stream",
     "text": [
      "22564198\n"
     ]
    }
   ],
   "source": [
    "#find total amount\n",
    "totalAmount = df['Profit/Losses'].sum()\n",
    "print(totalAmount)"
   ]
  },
  {
   "cell_type": "code",
   "execution_count": 159,
   "id": "ecf10e7a",
   "metadata": {},
   "outputs": [
    {
     "name": "stdout",
     "output_type": "stream",
     "text": [
      "-8311.11\n"
     ]
    }
   ],
   "source": [
    "#find revenue change\n",
    "\n",
    "revenueChange = df['Profit/Losses'].diff(+1)\n",
    "df['revenueChange'] = revenueChange\n",
    "\n",
    "averageChange = df['revenueChange'].mean()\n",
    "averageChange = round((averageChange), 2)\n",
    "print(averageChange)\n"
   ]
  },
  {
   "cell_type": "code",
   "execution_count": 174,
   "id": "ef9ab8ed",
   "metadata": {},
   "outputs": [
    {
     "name": "stdout",
     "output_type": "stream",
     "text": [
      "1862002\n",
      "-1825558\n",
      "22564198\n"
     ]
    }
   ],
   "source": [
    "#Greatest increase in profit and decrease in profit\n",
    "\n",
    "bigIncrease = df['revenueChange'].max()\n",
    "bigDecrease = df['revenueChange'].min()\n",
    "\n",
    "bigIncrease = round((bigIncrease))\n",
    "bigDecrease = round((bigDecrease))\n",
    "\n",
    "print(bigIncrease)\n",
    "print(bigDecrease)\n",
    "\n"
   ]
  },
  {
   "cell_type": "code",
   "execution_count": null,
   "id": "eac30b81",
   "metadata": {},
   "outputs": [],
   "source": []
  },
  {
   "cell_type": "code",
   "execution_count": 191,
   "id": "8137b3b9",
   "metadata": {},
   "outputs": [
    {
     "name": "stdout",
     "output_type": "stream",
     "text": [
      "Financial Analysis\n",
      "----------------------------\n",
      "Total Months: 86\n",
      "Total: $22564198\n",
      "Average Change: $-8311.11\n",
      "Greatest Increase in Profits: Aug-16  ($1862002)\n",
      "Greatest Decrease in Profits: Feb-14  ($-1825558)\n"
     ]
    }
   ],
   "source": [
    "print('Financial Analysis')\n",
    "print(\"----------------------------\")\n",
    "print('Total Months: ' + str(monthCount))\n",
    "print('Total: $' +  str(totalAmount))\n",
    "print('Average Change: $' + str(averageChange))\n",
    "print('Greatest Increase in Profits: ' + df.loc[df['revenueChange'] == 1862002, 'Date'].values[0] + '  ($' + str(bigIncrease)+ ')')\n",
    "print('Greatest Decrease in Profits: ' + df.loc[df['revenueChange'] == -1825558, 'Date'].values[0] + '  ($' + str(bigDecrease)+ ')')\n"
   ]
  },
  {
   "cell_type": "code",
   "execution_count": 200,
   "id": "a65d1a0e",
   "metadata": {},
   "outputs": [
    {
     "ename": "SyntaxError",
     "evalue": "invalid syntax (<ipython-input-200-32ee409ab3bb>, line 15)",
     "output_type": "error",
     "traceback": [
      "\u001b[1;36m  File \u001b[1;32m\"<ipython-input-200-32ee409ab3bb>\"\u001b[1;36m, line \u001b[1;32m15\u001b[0m\n\u001b[1;33m    file.write('\\n')\u001b[0m\n\u001b[1;37m    ^\u001b[0m\n\u001b[1;31mSyntaxError\u001b[0m\u001b[1;31m:\u001b[0m invalid syntax\n"
     ]
    }
   ],
   "source": [
    "#write to text\n",
    "\n",
    "outputFile = Path(\"python-challenge\", \"PyBank\", \"analysis.txt\")\n",
    "\n",
    "with open(outputFile, \"w\") as file:\n",
    "    file.write('Financial Analysis')\n",
    "    file.write('\\n')\n",
    "    file.write(\"----------------------------\")\n",
    "    file.write('\\n')\n",
    "    file.write('Total Months: ' + str(monthCount))\n",
    "    file.write('\\n')\n",
    "    file.write('Total: $' +  str(totalAmount))\n",
    "    file.write('\\n')\n",
    "    file.write('Average Change: $' + str(averageChange)\n",
    "    file.write('\\n')\n",
    "    file.write('Greatest Increase in Profits: ' + df.loc[df['revenueChange'] == 1862002, 'Date'].values[0] + '  ($' + str(bigIncrease)+ ')')\n",
    "    file.write('\\n')\n",
    "    file.write('Greatest Decrease in Profits: ' + df.loc[df['revenueChange'] == -1825558, 'Date'].values[0] + '  ($' + str(bigDecrease)+ ')')\n",
    "    "
   ]
  },
  {
   "cell_type": "code",
   "execution_count": null,
   "id": "78f8e195",
   "metadata": {},
   "outputs": [],
   "source": []
  }
 ],
 "metadata": {
  "kernelspec": {
   "display_name": "Python 3",
   "language": "python",
   "name": "python3"
  },
  "language_info": {
   "codemirror_mode": {
    "name": "ipython",
    "version": 3
   },
   "file_extension": ".py",
   "mimetype": "text/x-python",
   "name": "python",
   "nbconvert_exporter": "python",
   "pygments_lexer": "ipython3",
   "version": "3.8.8"
  }
 },
 "nbformat": 4,
 "nbformat_minor": 5
}
